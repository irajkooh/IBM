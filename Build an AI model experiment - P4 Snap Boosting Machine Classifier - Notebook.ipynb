{
    "cells": [
        {
            "metadata": {},
            "cell_type": "markdown",
            "source": "![image](https://github.com/IBM/watson-machine-learning-samples/raw/master/cloud/notebooks/headers/AutoAI-Banner_Pipeline-Notebook.png)\n# Pipeline 4 Notebook - AutoAI Notebook v1.21.1\n\nConsider these tips for working with an auto-generated notebook:\n- Notebook code generated using AutoAI will execute successfully. If you modify the notebook, we cannot guarantee it will run successfully.\n- This pipeline is optimized for the original data set. The pipeline might fail or produce sub-optimal results if used with different data.  If you want to use a different data set, consider retraining the AutoAI experiment to generate a new pipeline. For more information, see <a href=\"https://dataplatform.cloud.ibm.com/docs/content/wsj/analyze-data/autoai-notebook.html\">Cloud Platform</a>. \n- Before modifying the pipeline or trying to re-fit the pipeline, consider that the code converts dataframes to numpy arrays before fitting the pipeline (a current restriction of the preprocessor pipeline).\n"
        },
        {
            "metadata": {},
            "cell_type": "markdown",
            "source": "<a id=\"content\"></a>\n## Notebook content\n\nThis notebook contains a Scikit-learn representation of AutoAI pipeline. This notebook introduces commands for retrieving data, training the model, and testing the model. \n\nSome familiarity with Python is helpful. This notebook uses Python 3.10 and scikit-learn 1.1.1."
        },
        {
            "metadata": {
                "pycharm": {
                    "name": "#%% md\n"
                }
            },
            "cell_type": "markdown",
            "source": "## Notebook goals\n\n-  Scikit-learn pipeline definition\n-  Pipeline training \n-  Pipeline evaluation\n\n## Contents\n\nThis notebook contains the following parts:\n\n**[Setup](#setup)**<br>\n&nbsp;&nbsp;[Package installation](#install)<br>\n&nbsp;&nbsp;[AutoAI experiment metadata](#variables_definition)<br>\n&nbsp;&nbsp;[Watson Machine Learning connection](#connection)<br>\n**[Pipeline inspection](#inspection)** <br>\n&nbsp;&nbsp;[Read training data](#read)<br>\n&nbsp;&nbsp;[Train and test data split](#split)<br>\n&nbsp;&nbsp;[Create pipeline](#preview_model_to_python_code)<br>\n&nbsp;&nbsp;[Train pipeline model](#train)<br>\n&nbsp;&nbsp;[Test pipeline model](#test_model)<br>\n**[Store the model](#saving)**<br>\n**[Summary and next steps](#summary_and_next_steps)**<br>\n**[Copyrights](#copyrights)**"
        },
        {
            "metadata": {},
            "cell_type": "markdown",
            "source": "<a id=\"setup\"></a>\n# Setup"
        },
        {
            "metadata": {},
            "cell_type": "markdown",
            "source": "<a id=\"install\"></a>\n## Package installation\nBefore you use the sample code in this notebook, install the following packages:\n - ibm_watson_machine_learning,\n - autoai-libs,\n - scikit-learn,\n - snapml\n"
        },
        {
            "metadata": {
                "execution": {
                    "iopub.execute_input": "2020-10-12T14:00:45.009458Z",
                    "iopub.status.busy": "2020-10-12T14:00:45.007968Z",
                    "iopub.status.idle": "2020-10-12T14:00:46.037702Z",
                    "shell.execute_reply": "2020-10-12T14:00:46.038270Z"
                },
                "pycharm": {
                    "name": "#%%\n"
                },
                "scrolled": true
            },
            "cell_type": "code",
            "source": "!pip install ibm-watson-machine-learning | tail -n 1\n!pip install autoai-libs==1.16.1 | tail -n 1\n!pip install scikit-learn==1.1.1 | tail -n 1\n!pip install 'lale>=0.7,<0.8' | tail -n 1\n!pip install 'snapml==1.13.1' | tail -n 1",
            "execution_count": 18,
            "outputs": [
                {
                    "output_type": "stream",
                    "text": "Requirement already satisfied: six>=1.10.0 in /opt/conda/envs/Python-RT23.1/lib/python3.10/site-packages (from lomond->ibm-watson-machine-learning) (1.16.0)\nRequirement already satisfied: six>=1.5 in /opt/conda/envs/Python-RT23.1/lib/python3.10/site-packages (from python-dateutil>=2.8.1->pandas<1.6,>=0.24.2->autoai-libs==1.16.1) (1.16.0)\nRequirement already satisfied: threadpoolctl>=2.0.0 in /opt/conda/envs/Python-RT23.1/lib/python3.10/site-packages (from scikit-learn==1.1.1) (2.2.0)\nRequirement already satisfied: sortedcontainers~=2.2 in /opt/conda/envs/Python-RT23.1/lib/python3.10/site-packages (from portion->jsonsubschema>=0.0.6->lale<0.8,>=0.7) (2.4.0)\nRequirement already satisfied: threadpoolctl>=2.0.0 in /opt/conda/envs/Python-RT23.1/lib/python3.10/site-packages (from scikit-learn->snapml==1.13.1) (2.2.0)\n",
                    "name": "stdout"
                }
            ]
        },
        {
            "metadata": {},
            "cell_type": "markdown",
            "source": "Filter warnings for this notebook."
        },
        {
            "metadata": {},
            "cell_type": "code",
            "source": "import warnings\n\nwarnings.filterwarnings('ignore')",
            "execution_count": 19,
            "outputs": []
        },
        {
            "metadata": {},
            "cell_type": "markdown",
            "source": "<a id=\"variables_definition\"></a>\n## AutoAI experiment metadata\nThe following cell contains the training data connection details.  \n**Note**: The connection might contain authorization credentials, so be careful when sharing the notebook."
        },
        {
            "metadata": {
                "execution": {
                    "iopub.execute_input": "2020-10-12T14:00:49.797633Z",
                    "iopub.status.busy": "2020-10-12T14:00:49.796778Z",
                    "iopub.status.idle": "2020-10-12T14:00:57.182715Z",
                    "shell.execute_reply": "2020-10-12T14:00:57.183132Z"
                },
                "pycharm": {
                    "is_executing": true
                }
            },
            "cell_type": "code",
            "source": "from ibm_watson_machine_learning.helpers import DataConnection\nfrom ibm_watson_machine_learning.helpers import ContainerLocation\n\ntraining_data_references = [\n    DataConnection(\n        data_asset_id='c0864091-aed4-41dc-b3b4-ef85dacd5609'\n    ),\n]\ntraining_result_reference = DataConnection(\n    location=ContainerLocation(\n        path='auto_ml/7672ce4b-7078-4ed3-9c04-33e28fc58503/wml_data/78a49f69-0e1d-4280-9267-5e94b1fdc4d4/data/automl',\n        model_location='auto_ml/7672ce4b-7078-4ed3-9c04-33e28fc58503/wml_data/78a49f69-0e1d-4280-9267-5e94b1fdc4d4/data/automl/model.zip',\n        training_status='auto_ml/7672ce4b-7078-4ed3-9c04-33e28fc58503/wml_data/78a49f69-0e1d-4280-9267-5e94b1fdc4d4/training-status.json'\n    )\n)",
            "execution_count": 20,
            "outputs": []
        },
        {
            "metadata": {},
            "cell_type": "markdown",
            "source": "The following cell contains input parameters provided to run the AutoAI experiment in Watson Studio."
        },
        {
            "metadata": {
                "execution": {
                    "iopub.execute_input": "2020-10-12T14:00:57.187305Z",
                    "iopub.status.busy": "2020-10-12T14:00:57.186602Z",
                    "iopub.status.idle": "2020-10-12T14:00:57.188392Z",
                    "shell.execute_reply": "2020-10-12T14:00:57.188878Z"
                },
                "pycharm": {
                    "name": "#%%\n"
                }
            },
            "cell_type": "code",
            "source": "experiment_metadata = dict(\n    prediction_type='binary',\n    prediction_column='MISSED_PAYMENT',\n    holdout_size=0.1,\n    scoring='accuracy',\n    csv_separator=',',\n    random_state=33,\n    max_number_of_estimators=2,\n    training_data_references=training_data_references,\n    training_result_reference=training_result_reference,\n    deployment_url='https://us-south.ml.cloud.ibm.com',\n    project_id='0d00bfee-97c4-4f15-a3ff-d9b75d0e1124',\n    positive_label='Paid',\n    drop_duplicates=True,\n    include_batched_ensemble_estimators=[]\n)",
            "execution_count": 21,
            "outputs": []
        },
        {
            "metadata": {},
            "cell_type": "markdown",
            "source": "<a id=\"connection\"></a>\n## Watson Machine Learning connection\n\nThis cell defines the credentials required to work with the Watson Machine Learning service.\n\n**Action**: Provide the IBM Cloud apikey, For details, see [documentation](https://cloud.ibm.com/docs/account?topic=account-userapikey)."
        },
        {
            "metadata": {},
            "cell_type": "code",
            "source": "api_key = '14qK2UldM1i25REfFm3HcH9y23_NVL-6taz3pgKjrnC9'",
            "execution_count": 22,
            "outputs": []
        },
        {
            "metadata": {},
            "cell_type": "code",
            "source": "wml_credentials = {\n    \"apikey\": api_key,\n    \"url\": experiment_metadata['deployment_url']\n}",
            "execution_count": 23,
            "outputs": []
        },
        {
            "metadata": {},
            "cell_type": "code",
            "source": "from ibm_watson_machine_learning import APIClient\n\nwml_client = APIClient(wml_credentials)\n\nif 'space_id' in experiment_metadata:\n    wml_client.set.default_space(experiment_metadata['space_id'])\nelse:\n    wml_client.set.default_project(experiment_metadata['project_id'])\n    \ntraining_data_references[0].set_client(wml_client)",
            "execution_count": 24,
            "outputs": []
        },
        {
            "metadata": {},
            "cell_type": "markdown",
            "source": "<a id=\"inspection\"></a>\n# Pipeline inspection"
        },
        {
            "metadata": {},
            "cell_type": "markdown",
            "source": "<a id=\"read\"></a>\n## Read training data\n\nRetrieve training dataset from AutoAI experiment as pandas DataFrame.\n\n**Note**: If reading data results in an error, provide data as Pandas DataFrame object, for example, reading .CSV file with `pandas.read_csv()`. \n\nIt may be necessary to use methods for initial data pre-processing like: e.g. `DataFrame.dropna()`, `DataFrame.drop_duplicates()`, `DataFrame.sample()`.\n"
        },
        {
            "metadata": {
                "execution": {
                    "iopub.execute_input": "2020-10-12T14:01:16.076169Z",
                    "iopub.status.busy": "2020-10-12T14:01:16.075589Z",
                    "iopub.status.idle": "2020-10-12T14:01:19.190233Z",
                    "shell.execute_reply": "2020-10-12T14:01:19.190807Z"
                },
                "pycharm": {
                    "is_executing": true,
                    "name": "#%%\n"
                }
            },
            "cell_type": "code",
            "source": "train_X, test_X, train_y, test_y = training_data_references[0].read(experiment_metadata=experiment_metadata, with_holdout_split=True, use_flight=False)",
            "execution_count": 25,
            "outputs": []
        },
        {
            "metadata": {
                "pycharm": {
                    "name": "#%% md\n"
                }
            },
            "cell_type": "markdown",
            "source": "<a id=\"preview_model_to_python_code\"></a>\n## Create pipeline\nIn the next cell, you can find the Scikit-learn definition of the selected AutoAI pipeline."
        },
        {
            "metadata": {
                "pycharm": {
                    "name": "#%% md\n"
                }
            },
            "cell_type": "markdown",
            "source": "#### Import statements."
        },
        {
            "metadata": {
                "pycharm": {
                    "is_executing": true,
                    "name": "#%%\n"
                }
            },
            "cell_type": "code",
            "source": "from autoai_libs.transformers.exportable import NumpyColumnSelector\nfrom autoai_libs.transformers.exportable import CompressStrings\nfrom autoai_libs.transformers.exportable import NumpyReplaceMissingValues\nfrom autoai_libs.transformers.exportable import NumpyReplaceUnknownValues\nfrom autoai_libs.transformers.exportable import boolean2float\nfrom autoai_libs.transformers.exportable import CatImputer\nfrom autoai_libs.transformers.exportable import CatEncoder\nimport numpy as np\nfrom autoai_libs.transformers.exportable import float32_transform\nfrom sklearn.pipeline import make_pipeline\nfrom autoai_libs.transformers.exportable import FloatStr2Float\nfrom autoai_libs.transformers.exportable import NumImputer\nfrom autoai_libs.transformers.exportable import OptStandardScaler\nfrom sklearn.pipeline import make_union\nfrom autoai_libs.transformers.exportable import NumpyPermuteArray\nfrom autoai_libs.cognito.transforms.transform_utils import TA1\nimport autoai_libs.utils.fc_methods\nfrom autoai_libs.cognito.transforms.transform_utils import FS1\nfrom autoai_libs.cognito.transforms.transform_utils import TA2\nfrom snapml import SnapBoostingMachineClassifier",
            "execution_count": 26,
            "outputs": []
        },
        {
            "metadata": {},
            "cell_type": "markdown",
            "source": "#### Pre-processing & Estimator."
        },
        {
            "metadata": {
                "pycharm": {
                    "is_executing": true,
                    "name": "#%%\n"
                }
            },
            "cell_type": "code",
            "source": "numpy_column_selector_0 = NumpyColumnSelector(\n    columns=[\n        3, 12, 13, 14, 15, 16, 17, 18, 19, 20, 21, 22, 23, 24, 25, 26, 27, 28,\n        29, 30, 31, 32, 33, 40, 41,\n    ]\n)\ncompress_strings = CompressStrings(\n    compress_type=\"hash\",\n    dtypes_list=[\n        \"char_str\", \"int_num\", \"int_num\", \"int_num\", \"int_num\", \"int_num\",\n        \"int_num\", \"int_num\", \"int_num\", \"char_str\", \"int_num\", \"int_num\",\n        \"int_num\", \"int_num\", \"int_num\", \"int_num\", \"char_str\", \"char_str\",\n        \"char_str\", \"char_str\", \"char_str\", \"char_str\", \"int_num\", \"int_num\",\n        \"int_num\",\n    ],\n    missing_values_reference_list=[\"\", \"-\", \"?\", float(\"nan\")],\n    misslist_list=[\n        [], [], [], [], [], [], [], [], [], [], [], [], [], [], [], [], [],\n        [], [], [], [], [], [], [], [],\n    ],\n)\nnumpy_replace_missing_values_0 = NumpyReplaceMissingValues(\n    filling_values=float(\"nan\"), missing_values=[]\n)\nnumpy_replace_unknown_values = NumpyReplaceUnknownValues(\n    filling_values=float(\"nan\"),\n    filling_values_list=[\n        float(\"nan\"), float(\"nan\"), float(\"nan\"), float(\"nan\"), float(\"nan\"),\n        float(\"nan\"), float(\"nan\"), float(\"nan\"), float(\"nan\"), float(\"nan\"),\n        float(\"nan\"), float(\"nan\"), float(\"nan\"), float(\"nan\"), float(\"nan\"),\n        float(\"nan\"), float(\"nan\"), float(\"nan\"), float(\"nan\"), float(\"nan\"),\n        float(\"nan\"), float(\"nan\"), float(\"nan\"), float(\"nan\"), float(\"nan\"),\n    ],\n    missing_values_reference_list=[\"\", \"-\", \"?\", float(\"nan\")],\n)\ncat_imputer = CatImputer(\n    missing_values=float(\"nan\"),\n    sklearn_version_family=\"1\",\n    strategy=\"most_frequent\",\n)\ncat_encoder = CatEncoder(\n    dtype=np.float64,\n    handle_unknown=\"error\",\n    sklearn_version_family=\"1\",\n    encoding=\"ordinal\",\n    categories=\"auto\",\n)\npipeline_0 = make_pipeline(\n    numpy_column_selector_0,\n    compress_strings,\n    numpy_replace_missing_values_0,\n    numpy_replace_unknown_values,\n    boolean2float(),\n    cat_imputer,\n    cat_encoder,\n    float32_transform(),\n)\nnumpy_column_selector_1 = NumpyColumnSelector(\n    columns=[0, 1, 2, 4, 5, 6, 7, 8, 9, 10, 11, 34, 35, 36, 37, 38, 39]\n)\nfloat_str2_float = FloatStr2Float(\n    dtypes_list=[\n        \"int_num\", \"float_num\", \"float_num\", \"float_num\", \"float_num\",\n        \"float_num\", \"float_num\", \"float_num\", \"float_num\", \"float_num\",\n        \"float_num\", \"float_num\", \"float_num\", \"float_num\", \"float_num\",\n        \"float_num\", \"float_num\",\n    ],\n    missing_values_reference_list=[],\n)\nnumpy_replace_missing_values_1 = NumpyReplaceMissingValues(\n    filling_values=float(\"nan\"), missing_values=[]\n)\nnum_imputer = NumImputer(missing_values=float(\"nan\"), strategy=\"median\")\nopt_standard_scaler = OptStandardScaler(use_scaler_flag=False)\npipeline_1 = make_pipeline(\n    numpy_column_selector_1,\n    float_str2_float,\n    numpy_replace_missing_values_1,\n    num_imputer,\n    opt_standard_scaler,\n    float32_transform(),\n)\nunion = make_union(pipeline_0, pipeline_1)\nnumpy_permute_array = NumpyPermuteArray(\n    axis=0,\n    permutation_indices=[\n        3, 12, 13, 14, 15, 16, 17, 18, 19, 20, 21, 22, 23, 24, 25, 26, 27, 28,\n        29, 30, 31, 32, 33, 40, 41, 0, 1, 2, 4, 5, 6, 7, 8, 9, 10, 11, 34, 35,\n        36, 37, 38, 39,\n    ],\n)\nta1 = TA1(\n    fun=np.square,\n    name=\"square\",\n    datatypes=[\"numeric\"],\n    feat_constraints=[autoai_libs.utils.fc_methods.is_not_categorical],\n    col_names=[\n        \"CUSTOMER_ID\", \"OVERDUE_BALANCE\", \"BASE_USAGE\", \"CREDIT_HISTORY\",\n        \"ALTERNATE_USAGE\", \"STANDING_CHARGE\", \"BASE_CHARGE\",\n        \"ALTERNATE_CHARGE\", \"LEVY\", \"TAX\", \"TOTAL_NET\", \"TOTAL_TO_PAY\", \"AGE\",\n        \"IS_REGISTERED_FOR_ALERTS\", \"OWNS_HOME\", \"COMPLAINTS\",\n        \"HAS_THERMOSTAT\", \"HAS_HOME_AUTOMATION\", \"PV_ZONING\", \"WIND_ZONING\",\n        \"SMART_METER_COMMENTS\", \"IS_CAR_OWNER\", \"HAS_EV\", \"HAS_PV\",\n        \"HAS_WIND\", \"EBILL\", \"IN_WARRANTY\", \"CITY\", \"MARITAL_STATUS\",\n        \"EDUCATION\", \"SEGMENT\", \"EMPLOYMENT\", \"BUILDING_TYPE\",\n        \"BILLING_MONTH\", \"RATIO_THIS_MONTH_BASE_USAGE_VS_LAST_MONTH\",\n        \"RATIO_THIS_MONTH_BASE_USAGE_VS_AVG_LOOKBACK_WINDOW\",\n        \"RATIO_THIS_MONTH_ALTERNATE_USAGE_VS_LAST_MONTH\",\n        \"RATIO_THIS_MONTH_ALTERNATE_USAGE_VS_AVG_LOOKBACK_WINDOW\",\n        \"RATIO_THIS_MONTH_TOTAL_TO_PAY_VS_LAST_MONTH\",\n        \"RATIO_THIS_MONTH_TOTAL_TO_PAY_VS_AVG_LOOKBACK_WINDOW\",\n        \"NUM_MISSED_PAYMENTS_LOOKBACK_WINDOW\", \"BILLING_MONTH_NUMBER\",\n    ],\n    col_dtypes=[\n        np.dtype(\"float32\"), np.dtype(\"float32\"), np.dtype(\"float32\"),\n        np.dtype(\"float32\"), np.dtype(\"float32\"), np.dtype(\"float32\"),\n        np.dtype(\"float32\"), np.dtype(\"float32\"), np.dtype(\"float32\"),\n        np.dtype(\"float32\"), np.dtype(\"float32\"), np.dtype(\"float32\"),\n        np.dtype(\"float32\"), np.dtype(\"float32\"), np.dtype(\"float32\"),\n        np.dtype(\"float32\"), np.dtype(\"float32\"), np.dtype(\"float32\"),\n        np.dtype(\"float32\"), np.dtype(\"float32\"), np.dtype(\"float32\"),\n        np.dtype(\"float32\"), np.dtype(\"float32\"), np.dtype(\"float32\"),\n        np.dtype(\"float32\"), np.dtype(\"float32\"), np.dtype(\"float32\"),\n        np.dtype(\"float32\"), np.dtype(\"float32\"), np.dtype(\"float32\"),\n        np.dtype(\"float32\"), np.dtype(\"float32\"), np.dtype(\"float32\"),\n        np.dtype(\"float32\"), np.dtype(\"float32\"), np.dtype(\"float32\"),\n        np.dtype(\"float32\"), np.dtype(\"float32\"), np.dtype(\"float32\"),\n        np.dtype(\"float32\"), np.dtype(\"float32\"), np.dtype(\"float32\"),\n    ],\n)\nfs1_0 = FS1(\n    cols_ids_must_keep=range(0, 42),\n    additional_col_count_to_keep=30,\n    ptype=\"classification\",\n)\nta2 = TA2(\n    fun=np.add,\n    name=\"sum\",\n    datatypes1=[\n        \"intc\", \"intp\", \"int_\", \"uint8\", \"uint16\", \"uint32\", \"uint64\", \"int8\",\n        \"int16\", \"int32\", \"int64\", \"short\", \"long\", \"longlong\", \"float16\",\n        \"float32\", \"float64\",\n    ],\n    feat_constraints1=[autoai_libs.utils.fc_methods.is_not_categorical],\n    datatypes2=[\n        \"intc\", \"intp\", \"int_\", \"uint8\", \"uint16\", \"uint32\", \"uint64\", \"int8\",\n        \"int16\", \"int32\", \"int64\", \"short\", \"long\", \"longlong\", \"float16\",\n        \"float32\", \"float64\",\n    ],\n    feat_constraints2=[autoai_libs.utils.fc_methods.is_not_categorical],\n    col_names=[\n        \"CUSTOMER_ID\", \"OVERDUE_BALANCE\", \"BASE_USAGE\", \"CREDIT_HISTORY\",\n        \"ALTERNATE_USAGE\", \"STANDING_CHARGE\", \"BASE_CHARGE\",\n        \"ALTERNATE_CHARGE\", \"LEVY\", \"TAX\", \"TOTAL_NET\", \"TOTAL_TO_PAY\", \"AGE\",\n        \"IS_REGISTERED_FOR_ALERTS\", \"OWNS_HOME\", \"COMPLAINTS\",\n        \"HAS_THERMOSTAT\", \"HAS_HOME_AUTOMATION\", \"PV_ZONING\", \"WIND_ZONING\",\n        \"SMART_METER_COMMENTS\", \"IS_CAR_OWNER\", \"HAS_EV\", \"HAS_PV\",\n        \"HAS_WIND\", \"EBILL\", \"IN_WARRANTY\", \"CITY\", \"MARITAL_STATUS\",\n        \"EDUCATION\", \"SEGMENT\", \"EMPLOYMENT\", \"BUILDING_TYPE\",\n        \"BILLING_MONTH\", \"RATIO_THIS_MONTH_BASE_USAGE_VS_LAST_MONTH\",\n        \"RATIO_THIS_MONTH_BASE_USAGE_VS_AVG_LOOKBACK_WINDOW\",\n        \"RATIO_THIS_MONTH_ALTERNATE_USAGE_VS_LAST_MONTH\",\n        \"RATIO_THIS_MONTH_ALTERNATE_USAGE_VS_AVG_LOOKBACK_WINDOW\",\n        \"RATIO_THIS_MONTH_TOTAL_TO_PAY_VS_LAST_MONTH\",\n        \"RATIO_THIS_MONTH_TOTAL_TO_PAY_VS_AVG_LOOKBACK_WINDOW\",\n        \"NUM_MISSED_PAYMENTS_LOOKBACK_WINDOW\", \"BILLING_MONTH_NUMBER\",\n        \"square(CUSTOMER_ID)\", \"square(OVERDUE_BALANCE)\",\n        \"square(BASE_USAGE)\", \"square(ALTERNATE_USAGE)\",\n        \"square(BASE_CHARGE)\", \"square(ALTERNATE_CHARGE)\", \"square(LEVY)\",\n        \"square(TAX)\", \"square(TOTAL_NET)\", \"square(TOTAL_TO_PAY)\",\n        \"square(AGE)\", \"square(RATIO_THIS_MONTH_BASE_USAGE_VS_LAST_MONTH)\",\n        \"square(RATIO_THIS_MONTH_BASE_USAGE_VS_AVG_LOOKBACK_WINDOW)\",\n        \"square(RATIO_THIS_MONTH_ALTERNATE_USAGE_VS_LAST_MONTH)\",\n        \"square(RATIO_THIS_MONTH_ALTERNATE_USAGE_VS_AVG_LOOKBACK_WINDOW)\",\n        \"square(RATIO_THIS_MONTH_TOTAL_TO_PAY_VS_LAST_MONTH)\",\n        \"square(RATIO_THIS_MONTH_TOTAL_TO_PAY_VS_AVG_LOOKBACK_WINDOW)\",\n    ],\n    col_dtypes=[\n        np.dtype(\"float32\"), np.dtype(\"float32\"), np.dtype(\"float32\"),\n        np.dtype(\"float32\"), np.dtype(\"float32\"), np.dtype(\"float32\"),\n        np.dtype(\"float32\"), np.dtype(\"float32\"), np.dtype(\"float32\"),\n        np.dtype(\"float32\"), np.dtype(\"float32\"), np.dtype(\"float32\"),\n        np.dtype(\"float32\"), np.dtype(\"float32\"), np.dtype(\"float32\"),\n        np.dtype(\"float32\"), np.dtype(\"float32\"), np.dtype(\"float32\"),\n        np.dtype(\"float32\"), np.dtype(\"float32\"), np.dtype(\"float32\"),\n        np.dtype(\"float32\"), np.dtype(\"float32\"), np.dtype(\"float32\"),\n        np.dtype(\"float32\"), np.dtype(\"float32\"), np.dtype(\"float32\"),\n        np.dtype(\"float32\"), np.dtype(\"float32\"), np.dtype(\"float32\"),\n        np.dtype(\"float32\"), np.dtype(\"float32\"), np.dtype(\"float32\"),\n        np.dtype(\"float32\"), np.dtype(\"float32\"), np.dtype(\"float32\"),\n        np.dtype(\"float32\"), np.dtype(\"float32\"), np.dtype(\"float32\"),\n        np.dtype(\"float32\"), np.dtype(\"float32\"), np.dtype(\"float32\"),\n        np.dtype(\"float32\"), np.dtype(\"float32\"), np.dtype(\"float32\"),\n        np.dtype(\"float32\"), np.dtype(\"float32\"), np.dtype(\"float32\"),\n        np.dtype(\"float32\"), np.dtype(\"float32\"), np.dtype(\"float32\"),\n        np.dtype(\"float32\"), np.dtype(\"float32\"), np.dtype(\"float32\"),\n        np.dtype(\"float32\"), np.dtype(\"float32\"), np.dtype(\"float32\"),\n        np.dtype(\"float32\"), np.dtype(\"float32\"),\n    ],\n)\nfs1_1 = FS1(\n    cols_ids_must_keep=range(0, 42),\n    additional_col_count_to_keep=30,\n    ptype=\"classification\",\n)\nsnap_boosting_machine_classifier = SnapBoostingMachineClassifier(\n    class_weight=\"balanced\",\n    gpu_ids=[0],\n    learning_rate=0.01,\n    max_max_depth=3,\n    min_max_depth=3,\n    num_round=73,\n    random_state=33,\n)\n",
            "execution_count": 27,
            "outputs": []
        },
        {
            "metadata": {},
            "cell_type": "markdown",
            "source": "#### Pipeline."
        },
        {
            "metadata": {
                "pycharm": {
                    "is_executing": true,
                    "name": "#%%\n"
                }
            },
            "cell_type": "code",
            "source": "pipeline = make_pipeline(\n    union,\n    numpy_permute_array,\n    ta1,\n    fs1_0,\n    ta2,\n    fs1_1,\n    snap_boosting_machine_classifier,\n)",
            "execution_count": 28,
            "outputs": []
        },
        {
            "metadata": {},
            "cell_type": "markdown",
            "source": "<a id=\"train\"></a>\n## Train pipeline model\n"
        },
        {
            "metadata": {
                "pycharm": {
                    "name": "#%% md\n"
                }
            },
            "cell_type": "markdown",
            "source": "### Define scorer from the optimization metric\nThis cell constructs the cell scorer based on the experiment metadata."
        },
        {
            "metadata": {
                "pycharm": {
                    "is_executing": true,
                    "name": "#%%\n"
                }
            },
            "cell_type": "code",
            "source": "from sklearn.metrics import get_scorer\n\nscorer = get_scorer(experiment_metadata['scoring'])",
            "execution_count": 29,
            "outputs": []
        },
        {
            "metadata": {
                "pycharm": {
                    "name": "#%% md\n"
                }
            },
            "cell_type": "markdown",
            "source": "<a id=\"test_model\"></a>\n### Fit pipeline model\nIn this cell, the pipeline is fitted."
        },
        {
            "metadata": {
                "execution": {
                    "iopub.execute_input": "2020-10-12T14:01:19.291734Z",
                    "iopub.status.busy": "2020-10-12T14:01:19.244735Z",
                    "iopub.status.idle": "2020-10-12T14:01:19.338461Z",
                    "shell.execute_reply": "2020-10-12T14:01:19.338958Z"
                },
                "pycharm": {
                    "is_executing": true,
                    "name": "#%%\n"
                },
                "scrolled": true
            },
            "cell_type": "code",
            "source": "pipeline.fit(train_X.values, train_y.values.ravel());",
            "execution_count": 30,
            "outputs": []
        },
        {
            "metadata": {},
            "cell_type": "markdown",
            "source": "<a id=\"test_model\"></a>\n## Test pipeline model"
        },
        {
            "metadata": {
                "pycharm": {
                    "name": "#%% md\n"
                }
            },
            "cell_type": "markdown",
            "source": "Score the fitted pipeline with the generated scorer using the holdout dataset."
        },
        {
            "metadata": {
                "execution": {
                    "iopub.execute_input": "2020-10-12T14:02:03.910267Z",
                    "iopub.status.busy": "2020-10-12T14:02:03.909710Z",
                    "iopub.status.idle": "2020-10-12T14:02:03.914154Z",
                    "shell.execute_reply": "2020-10-12T14:02:03.914727Z"
                },
                "pycharm": {
                    "is_executing": true,
                    "name": "#%%\n"
                }
            },
            "cell_type": "code",
            "source": "score = scorer(pipeline, test_X.values, test_y.values)\nprint(score)",
            "execution_count": 31,
            "outputs": [
                {
                    "output_type": "stream",
                    "text": "0.9142857142857143\n",
                    "name": "stdout"
                }
            ]
        },
        {
            "metadata": {
                "pycharm": {
                    "name": "#%%\n"
                }
            },
            "cell_type": "code",
            "source": "pipeline.predict(test_X.values[:5])",
            "execution_count": 32,
            "outputs": [
                {
                    "output_type": "execute_result",
                    "execution_count": 32,
                    "data": {
                        "text/plain": "array(['Paid', 'Missed Payment', 'Paid', 'Paid', 'Paid'], dtype='<U32')"
                    },
                    "metadata": {}
                }
            ]
        },
        {
            "metadata": {},
            "cell_type": "markdown",
            "source": "<a id=\"saving\"></a>\n## Store the model\n\nIn this section you will learn how to store the trained model."
        },
        {
            "metadata": {},
            "cell_type": "code",
            "source": "model_metadata = {\n    wml_client.repository.ModelMetaNames.NAME: 'P4 - Pretrained AutoAI pipeline'\n}\n\nstored_model_details = wml_client.repository.store_model(model=pipeline, meta_props=model_metadata, experiment_metadata=experiment_metadata)",
            "execution_count": 33,
            "outputs": []
        },
        {
            "metadata": {},
            "cell_type": "markdown",
            "source": "Inspect the stored model details."
        },
        {
            "metadata": {},
            "cell_type": "code",
            "source": "stored_model_details",
            "execution_count": 34,
            "outputs": [
                {
                    "output_type": "execute_result",
                    "execution_count": 34,
                    "data": {
                        "text/plain": "{'entity': {'hybrid_pipeline_software_specs': [{'id': 'b4246d87-d8b3-5621-9fea-76a8ea452616',\n    'name': 'autoai-kb_rt23.1-py3.10'}],\n  'label_column': 'MISSED_PAYMENT',\n  'pipeline': {'id': '8955c3c8-abba-452e-a384-971e1fe64fea'},\n  'schemas': {'input': [{'fields': [{'name': 'CUSTOMER_ID', 'type': 'integer'},\n      {'name': 'OVERDUE_BALANCE', 'type': 'double'},\n      {'name': 'BASE_USAGE', 'type': 'double'},\n      {'name': 'CREDIT_HISTORY', 'type': 'other'},\n      {'name': 'ALTERNATE_USAGE', 'type': 'double'},\n      {'name': 'STANDING_CHARGE', 'type': 'double'},\n      {'name': 'BASE_CHARGE', 'type': 'double'},\n      {'name': 'ALTERNATE_CHARGE', 'type': 'double'},\n      {'name': 'LEVY', 'type': 'double'},\n      {'name': 'TAX', 'type': 'double'},\n      {'name': 'TOTAL_NET', 'type': 'double'},\n      {'name': 'TOTAL_TO_PAY', 'type': 'double'},\n      {'name': 'AGE', 'type': 'integer'},\n      {'name': 'IS_REGISTERED_FOR_ALERTS', 'type': 'integer'},\n      {'name': 'OWNS_HOME', 'type': 'integer'},\n      {'name': 'COMPLAINTS', 'type': 'integer'},\n      {'name': 'HAS_THERMOSTAT', 'type': 'integer'},\n      {'name': 'HAS_HOME_AUTOMATION', 'type': 'integer'},\n      {'name': 'PV_ZONING', 'type': 'integer'},\n      {'name': 'WIND_ZONING', 'type': 'integer'},\n      {'name': 'SMART_METER_COMMENTS', 'type': 'other'},\n      {'name': 'IS_CAR_OWNER', 'type': 'integer'},\n      {'name': 'HAS_EV', 'type': 'integer'},\n      {'name': 'HAS_PV', 'type': 'integer'},\n      {'name': 'HAS_WIND', 'type': 'integer'},\n      {'name': 'EBILL', 'type': 'integer'},\n      {'name': 'IN_WARRANTY', 'type': 'integer'},\n      {'name': 'CITY', 'type': 'other'},\n      {'name': 'MARITAL_STATUS', 'type': 'other'},\n      {'name': 'EDUCATION', 'type': 'other'},\n      {'name': 'SEGMENT', 'type': 'other'},\n      {'name': 'EMPLOYMENT', 'type': 'other'},\n      {'name': 'BUILDING_TYPE', 'type': 'other'},\n      {'name': 'BILLING_MONTH', 'type': 'integer'},\n      {'name': 'RATIO_THIS_MONTH_BASE_USAGE_VS_LAST_MONTH', 'type': 'double'},\n      {'name': 'RATIO_THIS_MONTH_BASE_USAGE_VS_AVG_LOOKBACK_WINDOW',\n       'type': 'double'},\n      {'name': 'RATIO_THIS_MONTH_ALTERNATE_USAGE_VS_LAST_MONTH',\n       'type': 'double'},\n      {'name': 'RATIO_THIS_MONTH_ALTERNATE_USAGE_VS_AVG_LOOKBACK_WINDOW',\n       'type': 'double'},\n      {'name': 'RATIO_THIS_MONTH_TOTAL_TO_PAY_VS_LAST_MONTH',\n       'type': 'double'},\n      {'name': 'RATIO_THIS_MONTH_TOTAL_TO_PAY_VS_AVG_LOOKBACK_WINDOW',\n       'type': 'double'},\n      {'name': 'NUM_MISSED_PAYMENTS_LOOKBACK_WINDOW', 'type': 'integer'},\n      {'name': 'BILLING_MONTH_NUMBER', 'type': 'integer'}],\n     'id': '1',\n     'type': 'struct'}],\n   'output': []},\n  'software_spec': {'id': '8c1a58c6-62b5-4dc4-987a-df751c2756b6',\n   'name': 'hybrid_0.1'},\n  'training_data_references': [{'connection': {},\n    'location': {'bucket': 'buildanaimodel-donotdelete-pr-fepisqhpmctg8q',\n     'href': '/v2/assets/c0864091-aed4-41dc-b3b4-ef85dacd5609?project_id=0d00bfee-97c4-4f15-a3ff-d9b75d0e1124',\n     'id': 'c0864091-aed4-41dc-b3b4-ef85dacd5609',\n     'path': 'Historical-Customer-Payments-Prepared.csv'},\n    'schema': {'fields': [{'name': 'CUSTOMER_ID', 'type': 'integer'},\n      {'name': 'OVERDUE_BALANCE', 'type': 'double'},\n      {'name': 'BASE_USAGE', 'type': 'double'},\n      {'name': 'CREDIT_HISTORY', 'type': 'other'},\n      {'name': 'ALTERNATE_USAGE', 'type': 'double'},\n      {'name': 'STANDING_CHARGE', 'type': 'double'},\n      {'name': 'BASE_CHARGE', 'type': 'double'},\n      {'name': 'ALTERNATE_CHARGE', 'type': 'double'},\n      {'name': 'LEVY', 'type': 'double'},\n      {'name': 'TAX', 'type': 'double'},\n      {'name': 'TOTAL_NET', 'type': 'double'},\n      {'name': 'TOTAL_TO_PAY', 'type': 'double'},\n      {'name': 'AGE', 'type': 'integer'},\n      {'name': 'IS_REGISTERED_FOR_ALERTS', 'type': 'integer'},\n      {'name': 'OWNS_HOME', 'type': 'integer'},\n      {'name': 'COMPLAINTS', 'type': 'integer'},\n      {'name': 'HAS_THERMOSTAT', 'type': 'integer'},\n      {'name': 'HAS_HOME_AUTOMATION', 'type': 'integer'},\n      {'name': 'PV_ZONING', 'type': 'integer'},\n      {'name': 'WIND_ZONING', 'type': 'integer'},\n      {'name': 'SMART_METER_COMMENTS', 'type': 'other'},\n      {'name': 'IS_CAR_OWNER', 'type': 'integer'},\n      {'name': 'HAS_EV', 'type': 'integer'},\n      {'name': 'HAS_PV', 'type': 'integer'},\n      {'name': 'HAS_WIND', 'type': 'integer'},\n      {'name': 'EBILL', 'type': 'integer'},\n      {'name': 'IN_WARRANTY', 'type': 'integer'},\n      {'name': 'CITY', 'type': 'other'},\n      {'name': 'MARITAL_STATUS', 'type': 'other'},\n      {'name': 'EDUCATION', 'type': 'other'},\n      {'name': 'SEGMENT', 'type': 'other'},\n      {'name': 'EMPLOYMENT', 'type': 'other'},\n      {'name': 'BUILDING_TYPE', 'type': 'other'},\n      {'name': 'BILLING_MONTH', 'type': 'integer'},\n      {'name': 'RATIO_THIS_MONTH_BASE_USAGE_VS_LAST_MONTH', 'type': 'double'},\n      {'name': 'RATIO_THIS_MONTH_BASE_USAGE_VS_AVG_LOOKBACK_WINDOW',\n       'type': 'double'},\n      {'name': 'RATIO_THIS_MONTH_ALTERNATE_USAGE_VS_LAST_MONTH',\n       'type': 'double'},\n      {'name': 'RATIO_THIS_MONTH_ALTERNATE_USAGE_VS_AVG_LOOKBACK_WINDOW',\n       'type': 'double'},\n      {'name': 'RATIO_THIS_MONTH_TOTAL_TO_PAY_VS_LAST_MONTH',\n       'type': 'double'},\n      {'name': 'RATIO_THIS_MONTH_TOTAL_TO_PAY_VS_AVG_LOOKBACK_WINDOW',\n       'type': 'double'},\n      {'name': 'NUM_MISSED_PAYMENTS_LOOKBACK_WINDOW', 'type': 'integer'},\n      {'name': 'BILLING_MONTH_NUMBER', 'type': 'integer'},\n      {'name': 'MISSED_PAYMENT', 'type': 'other'}],\n     'id': 'auto_ai_kb_input_schema'},\n    'type': 'data_asset'}],\n  'type': 'wml-hybrid_0.1'},\n 'metadata': {'created_at': '2024-01-12T19:03:20.128Z',\n  'id': '8cdb520c-1840-46ba-bb7f-a6f9a6516bd1',\n  'modified_at': '2024-01-12T19:03:33.406Z',\n  'name': 'P4 - Pretrained AutoAI pipeline',\n  'owner': 'IBMid-6A1000497F',\n  'project_id': '0d00bfee-97c4-4f15-a3ff-d9b75d0e1124',\n  'resource_key': 'ce0fe97f-27cb-446d-a5ba-7cdce5ab888c'},\n 'system': {'warnings': []}}"
                    },
                    "metadata": {}
                }
            ]
        },
        {
            "metadata": {},
            "cell_type": "markdown",
            "source": "<a id=\"deployment\"></a>\n## Create online deployment"
        },
        {
            "metadata": {},
            "cell_type": "markdown",
            "source": "You can use commands bellow to promote the model to space and create online deployment (web service).\n\n<a id=\"working_spaces\"></a>\n### Working with spaces\n\nIn this section you will specify a deployment space for organizing the assets for deploying and scoring the model. If you do not have an existing space, you can use [Deployment Spaces Dashboard](https://dataplatform.cloud.ibm.com/ml-runtime/spaces?context=cpdaas) to create a new space, following these steps:\n\n- Click **New Deployment Space**.\n- Create an empty space.\n- Select Cloud Object Storage.\n- Select Watson Machine Learning instance and press **Create**.\n- Copy `space_id` and paste it below.\n\n**Tip**: You can also use the API to prepare the space for your work. Learn more [here](https://github.com/IBM/watson-machine-learning-samples/blob/master/notebooks/python_sdk/instance-management/Space%20management.ipynb).\n\n**Action**: Assign or update space ID below."
        },
        {
            "metadata": {},
            "cell_type": "raw",
            "source": "space_id = \"PUT_YOUR_SPACE_ID_HERE\"\n\nmodel_id = wml_client.spaces.promote(asset_id=stored_model_details[\"metadata\"][\"id\"], source_project_id=experiment_metadata[\"project_id\"], target_space_id=space_id)"
        },
        {
            "metadata": {},
            "cell_type": "markdown",
            "source": "#### Prepare online deployment"
        },
        {
            "metadata": {},
            "cell_type": "raw",
            "source": "wml_client.set.default_space(space_id)\n\ndeploy_meta = {\n        wml_client.deployments.ConfigurationMetaNames.NAME: \"Incrementally trained AutoAI pipeline\",\n        wml_client.deployments.ConfigurationMetaNames.ONLINE: {},\n    }\n\ndeployment_details = wml_client.deployments.create(artifact_uid=model_id, meta_props=deploy_meta)\ndeployment_id = wml_client.deployments.get_id(deployment_details)"
        },
        {
            "metadata": {},
            "cell_type": "markdown",
            "source": "#### Test online deployment"
        },
        {
            "metadata": {},
            "cell_type": "raw",
            "source": "import pandas as pd\n\nscoring_payload = {\n    \"input_data\": [{\n        'values': pd.DataFrame(X_test[:5])\n    }]\n}\n\nwml_client.deployments.score(deployment_id, scoring_payload)"
        },
        {
            "metadata": {},
            "cell_type": "markdown",
            "source": "<a id=\"cleanup\"></a>\n### Deleting deployment\nYou can delete the existing deployment by calling the `wml_client.deployments.delete(deployment_id)` command.\nTo list the existing web services, use `wml_client.deployments.list()`."
        },
        {
            "metadata": {},
            "cell_type": "markdown",
            "source": "<a id=\"summary_and_next_steps\"></a>\n# Summary and next steps\nYou successfully completed this notebook!\nYou learned how to use AutoAI pipeline definition to train the model.\nCheck out our [Online Documentation](https://www.ibm.com/cloud/watson-studio/autoai) for more samples, tutorials, documentation, how-tos, and blog posts."
        },
        {
            "metadata": {},
            "cell_type": "markdown",
            "source": "<a id=\"copyrights\"></a>\n### Copyrights\n\nLicensed Materials - Copyright \u00a9 2023 IBM. This notebook and its source code are released under the terms of the ILAN License. Use, duplication disclosure restricted by GSA ADP Schedule Contract with IBM Corp.\n\n**Note:** The auto-generated notebooks are subject to the International License Agreement for Non-Warranted Programs (or equivalent) and License Information document for Watson Studio Auto-generated Notebook (License Terms), such agreements located in the link below. Specifically, the Source Components and Sample Materials clause included in the License Information document for Watson Studio Auto-generated Notebook applies to the auto-generated notebooks.  \n\nBy downloading, copying, accessing, or otherwise using the materials, you agree to the <a href=\"https://www14.software.ibm.com/cgi-bin/weblap/lap.pl?li_formnum=L-AMCU-BYC7LF\">License Terms</a>\n\n___"
        }
    ],
    "metadata": {
        "kernelspec": {
            "name": "python3",
            "display_name": "Python 3.10",
            "language": "python"
        },
        "language_info": {
            "name": "python",
            "version": "3.10.13",
            "mimetype": "text/x-python",
            "codemirror_mode": {
                "name": "ipython",
                "version": 3
            },
            "pygments_lexer": "ipython3",
            "nbconvert_exporter": "python",
            "file_extension": ".py"
        }
    },
    "nbformat": 4,
    "nbformat_minor": 2
}