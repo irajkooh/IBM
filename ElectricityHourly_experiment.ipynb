{
    "cells": [
        {
            "metadata": {},
            "cell_type": "markdown",
            "source": "![image](https://github.com/IBM/watson-machine-learning-samples/raw/master/cloud/notebooks/headers/AutoAI-Banner_Experiment-Notebook.png)\n# Experiment Notebook -AutoAI Notebook v1.18.4\n\n\nThis notebook contains the steps and code to demonstrate support of AutoAI experiments in the Watson Machine Learning service. It introduces Python API commands for data retrieval, training experiments, persisting pipelines, testing pipelines, refining pipelines, and scoring the resulting model.\n\n**Note:** Notebook code generated using AutoAI will execute successfully. If code is modified or reordered, there is no guarantee it will successfully execute. For details, see: <a href=\"https://dataplatform.cloud.ibm.com/docs/content/wsj/analyze-data/autoai-notebook.html\">Saving an Auto AI experiment as a notebook</a>\n"
        },
        {
            "metadata": {},
            "cell_type": "markdown",
            "source": "Some familiarity with Python is helpful. This notebook uses Python 3.10 and the `ibm_watson_machine_learning` package.\n\n\n## Notebook goals\n\nThe learning goals of this notebook are:\n-  Defining an AutoAI experiment\n-  Training AutoAI models \n-  Comparing trained models\n-  Deploying the model as a web service\n-  Scoring the model to generate predictions\n\n\n\n## Contents\n\nThis notebook contains the following parts:\n\n**[Setup](#setup)**<br>\n&nbsp;&nbsp;[Package installation](#install)<br>\n&nbsp;&nbsp;[Watson Machine Learning connection](#connection)<br>\n**[Experiment configuration](#configuration)**<br>\n&nbsp;&nbsp;[Experiment metadata](#metadata)<br>\n**[Working with completed AutoAI experiment](#work)**<br>\n&nbsp;&nbsp;[Get fitted AutoAI optimizer](#get)<br>\n&nbsp;&nbsp;[Pipelines comparison](#comparison)<br>\n&nbsp;&nbsp;[Get pipeline as a scikit-learn pipeline model](#get_pipeline)<br>\n&nbsp;&nbsp;[Inspect pipeline](#inspect_pipeline)<br>\n&nbsp;&nbsp;&nbsp;&nbsp;[Visualize pipeline model](#visualize)<br>\n&nbsp;&nbsp;&nbsp;&nbsp;[Preview pipeline model as a Python code](#preview)<br>\n**[Deploy and Score](#scoring)**<br>\n&nbsp;&nbsp;[Working with spaces](#working_spaces)<br>\n**[Running AutoAI experiment with Python API](#run)**<br>\n**[Clean up](#cleanup)**<br>\n**[Next steps](#next_steps)**<br>\n**[Copyrights](#copyrights)**"
        },
        {
            "metadata": {},
            "cell_type": "markdown",
            "source": "<a id=\"setup\"></a>\n# Setup"
        },
        {
            "metadata": {},
            "cell_type": "markdown",
            "source": "<a id=\"install\"></a>\n## Package installation\nBefore you use the sample code in this notebook, install the following packages:\n - ibm-watson-machine-learning,\n - autoai-ts-libs\n"
        },
        {
            "metadata": {
                "pycharm": {
                    "name": "#%%\n"
                }
            },
            "cell_type": "code",
            "source": "!pip install ibm-watson-machine-learning | tail -n 1\n!pip install -U 'autoai-ts-libs>=1.2.0,<4.0' | tail -n 1\n!pip install -U scikit-learn==1.1.1 | tail -n 1\n!pip install -U nose | tail -n 1\n!pip install -U 'jupyter>=1' | tail -n 1",
            "execution_count": null,
            "outputs": []
        },
        {
            "metadata": {},
            "cell_type": "markdown",
            "source": "<a id=\"configuration\"></a>\n# Experiment configuration"
        },
        {
            "metadata": {
                "pycharm": {
                    "name": "#%% md\n"
                }
            },
            "cell_type": "markdown",
            "source": "<a id=\"metadata\"></a>\n## Experiment metadata\nThis cell defines the metadata for the experiment, including: training_data_references, training_result_reference, experiment_metadata."
        },
        {
            "metadata": {
                "pycharm": {
                    "name": "#%%\n"
                }
            },
            "cell_type": "code",
            "source": "from ibm_watson_machine_learning.helpers import DataConnection\nfrom ibm_watson_machine_learning.helpers import ContainerLocation\n\ntraining_data_references = [\n    DataConnection(\n        data_asset_id='56952cea-e9b4-471b-b781-fd6772f653cf'\n    ),\n]\ntraining_result_reference = DataConnection(\n    location=ContainerLocation(\n        path='auto_ml/d38cd7f1-addf-4a64-a90f-50ee5f0e0c6b/wml_data/18768e39-dda4-46f0-ade6-122a1cd5552d/data/autoai-ts',\n        model_location='auto_ml/d38cd7f1-addf-4a64-a90f-50ee5f0e0c6b/wml_data/18768e39-dda4-46f0-ade6-122a1cd5552d/data/autoai-ts/model.zip',\n        training_status='auto_ml/d38cd7f1-addf-4a64-a90f-50ee5f0e0c6b/wml_data/18768e39-dda4-46f0-ade6-122a1cd5552d/training-status.json'\n    )\n)",
            "execution_count": null,
            "outputs": []
        },
        {
            "metadata": {
                "pycharm": {
                    "name": "#%%\n"
                }
            },
            "cell_type": "code",
            "source": "experiment_metadata = dict(\n    prediction_type='timeseries',\n    prediction_columns=['MT_002', 'MT_004', 'MT_007'],\n    csv_separator=',',\n    holdout_size=20,\n    training_data_references=training_data_references,\n    training_result_reference=training_result_reference,\n    timestamp_column_name='timestamp',\n    backtest_num=4,\n    pipeline_type='all',\n    customized_pipelines=[],\n    lookback_window=-1,\n    forecast_window=1,\n    max_num_daub_ensembles=3,\n    feature_columns=['MT_002', 'MT_004', 'MT_007'],\n    future_exogenous_available=True,\n    gap_len=0,\n    deployment_url='https://us-south.ml.cloud.ibm.com',\n    project_id='e8f7bcf9-37a2-4880-b912-06970bf03a80',\n    numerical_imputation_strategy=['FlattenIterative', 'Linear', 'Cubic', 'Previous']\n)",
            "execution_count": null,
            "outputs": []
        },
        {
            "metadata": {},
            "cell_type": "markdown",
            "source": "<a id=\"connection\"></a>\n## Watson Machine Learning connection\n\nThis cell defines the credentials required to work with the Watson Machine Learning service.\n\n**Action**: Provide the IBM Cloud apikey, For details, see [documentation](https://cloud.ibm.com/docs/account?topic=account-userapikey)."
        },
        {
            "metadata": {
                "pycharm": {
                    "name": "#%%\n"
                }
            },
            "cell_type": "code",
            "source": "api_key = 'PUT_YOUR_APIKEY_HERE'",
            "execution_count": null,
            "outputs": []
        },
        {
            "metadata": {
                "pycharm": {
                    "name": "#%%\n"
                }
            },
            "cell_type": "code",
            "source": "wml_credentials = {\n    \"apikey\": api_key,\n    \"url\": experiment_metadata['deployment_url']\n}",
            "execution_count": null,
            "outputs": []
        },
        {
            "metadata": {},
            "cell_type": "markdown",
            "source": "<a id=\"work\"></a>\n\n\n# Working with the completed AutoAI experiment\n\nThis cell imports the pipelines generated for the experiment. The best pipeline will be saved as a model."
        },
        {
            "metadata": {},
            "cell_type": "markdown",
            "source": "<a id=\"get\"></a>\n\n\n## Get fitted AutoAI optimizer"
        },
        {
            "metadata": {
                "pycharm": {
                    "name": "#%%\n"
                }
            },
            "cell_type": "code",
            "source": "from ibm_watson_machine_learning.experiment import AutoAI\n\npipeline_optimizer = AutoAI(wml_credentials, project_id=experiment_metadata['project_id']).runs.get_optimizer(metadata=experiment_metadata)",
            "execution_count": null,
            "outputs": []
        },
        {
            "metadata": {},
            "cell_type": "markdown",
            "source": "Use `get_params()` to retrieve configuration parameters."
        },
        {
            "metadata": {
                "pycharm": {
                    "name": "#%%\n"
                }
            },
            "cell_type": "code",
            "source": "pipeline_optimizer.get_params()",
            "execution_count": null,
            "outputs": []
        },
        {
            "metadata": {
                "pycharm": {
                    "name": "#%% md\n"
                }
            },
            "cell_type": "markdown",
            "source": "<a id=\"comparison\"></a>\n## Pipelines comparison\n\nUse the `summary()` method to list trained pipelines and evaluation metrics information in\nthe form of a Pandas DataFrame. You can use the DataFrame to compare all discovered pipelines and select the one you like for further testing."
        },
        {
            "metadata": {
                "pycharm": {
                    "name": "#%%\n"
                }
            },
            "cell_type": "code",
            "source": "summary = pipeline_optimizer.summary()\nbest_pipeline_name = list(summary.index)[0]\nsummary",
            "execution_count": null,
            "outputs": []
        },
        {
            "metadata": {},
            "cell_type": "markdown",
            "source": "<a id=\"get_pipeline\"></a>\n### Get pipeline as a scikit-learn pipeline model\n\nAfter you compare the pipelines, download and save a scikit-learn pipeline model object from the\nAutoAI training job.\n\n**Tip:** To get a specific pipeline, pass the pipeline name in:\n```\npipeline_optimizer.get_pipeline(pipeline_name=pipeline_name)\n```"
        },
        {
            "metadata": {
                "pycharm": {
                    "name": "#%%\n"
                }
            },
            "cell_type": "code",
            "source": "pipeline_model = pipeline_optimizer.get_pipeline()",
            "execution_count": null,
            "outputs": []
        },
        {
            "metadata": {},
            "cell_type": "markdown",
            "source": "**Tip:** If you want to check all the details of the model evaluation metrics, use:\n```\npipeline_optimizer.get_pipeline_details()\n```"
        },
        {
            "metadata": {},
            "cell_type": "markdown",
            "source": "<a id=\"inspect_pipeline\"></a>\n## Inspect pipeline"
        },
        {
            "metadata": {},
            "cell_type": "markdown",
            "source": "<a id=\"visualize\"></a>\n### Visualize pipeline model\n\nPreview pipeline model stages as a graph. Each node's name links to a detailed description of the stage.\n"
        },
        {
            "metadata": {
                "pycharm": {
                    "name": "#%%\n"
                }
            },
            "cell_type": "code",
            "source": "pipeline_model.visualize()",
            "execution_count": null,
            "outputs": []
        },
        {
            "metadata": {},
            "cell_type": "markdown",
            "source": "<a id=\"preview\"></a>\n### Preview pipeline model as a Python code\nIn the next cell, you can preview the saved pipeline model as a Python code.  \nYou can review the exact steps used to create the model.\n\n**Note:** If you want to get sklearn representation, add the following parameter to the `pretty_print` call: `astype='sklearn'`."
        },
        {
            "metadata": {
                "pycharm": {
                    "name": "#%%\n"
                }
            },
            "cell_type": "code",
            "source": "pipeline_model.pretty_print(combinators=False, ipython_display=True)",
            "execution_count": null,
            "outputs": []
        },
        {
            "metadata": {},
            "cell_type": "markdown",
            "source": "### Calling the `predict` method\nIf you want to get a prediction by using the pipeline model object, call `pipeline_model.predict()`.\n\n**Note:** If you want to work with a pure sklearn model:\n - add the following parameter to the `get_pipeline` call: `astype='sklearn'`,\n - or `scikit_learn_pipeline = pipeline_model.export_to_sklearn_pipeline()`"
        },
        {
            "metadata": {
                "tags": []
            },
            "cell_type": "markdown",
            "source": "<a id=\"scoring\"></a>\n## Deploy and Score\n\nIn this section you will learn how to deploy and score the model as a web service."
        },
        {
            "metadata": {},
            "cell_type": "markdown",
            "source": "<a id=\"working_spaces\"></a>\n### Working with spaces\n\nIn this section you will specify a deployment space to organize assets and then deploy and score the model. If you do not have an existing space, you can use the [Deployment Spaces Dashboard](https://dataplatform.cloud.ibm.com/ml-runtime/spaces?context=cpdaas) to create a new space. Follow these steps:\n\n- Click **New Deployment Space**\n- Create an empty space\n- Select Cloud Object Storage\n- Select Watson Machine Learning instance and press **Create**\n- Copy `space_id` and paste it below\n\n**Tip**: You can also use the API to prepare the space for your work. Learn more [here](https://github.com/IBM/watson-machine-learning-samples/blob/master/cloud/notebooks/python_sdk/instance-management/Space%20management.ipynb).\n\n**Action**: Assign or update space ID below."
        },
        {
            "metadata": {},
            "cell_type": "markdown",
            "source": "### Deployment creation"
        },
        {
            "metadata": {
                "pycharm": {
                    "name": "#%%\n"
                }
            },
            "cell_type": "code",
            "source": "target_space_id = \"PUT_YOUR_TARGET_SPACE_ID_HERE\"\n\nfrom ibm_watson_machine_learning.deployment import WebService\n\nservice = WebService(\n    source_wml_credentials=wml_credentials,\n    target_wml_credentials=wml_credentials,\n    source_project_id=experiment_metadata['project_id'],\n    target_space_id=target_space_id\n)\nservice.create(\n    model=best_pipeline_name,\n    experiment_run_id=pipeline_optimizer.get_params()['run_id'],\n    deployment_name='Best_pipeline_webservice'\n)",
            "execution_count": null,
            "outputs": []
        },
        {
            "metadata": {},
            "cell_type": "markdown",
            "source": "Use the `print` method for the deployment object to show basic information about the service: "
        },
        {
            "metadata": {
                "pycharm": {
                    "name": "#%%\n"
                }
            },
            "cell_type": "code",
            "source": "print(service)",
            "execution_count": null,
            "outputs": []
        },
        {
            "metadata": {},
            "cell_type": "markdown",
            "source": "To show all available information about the deployment, use the `.get_params()` method."
        },
        {
            "metadata": {
                "pycharm": {
                    "name": "#%%\n"
                }
            },
            "cell_type": "code",
            "source": "service.get_params()",
            "execution_count": null,
            "outputs": []
        },
        {
            "metadata": {},
            "cell_type": "markdown",
            "source": "### Scoring of webservice\nYou can make a scoring request by calling `score()` on the deployed pipeline."
        },
        {
            "metadata": {},
            "cell_type": "markdown",
            "source": "If you want to work with the web service in an external Python application, follow these steps to retrieve the service object:\n\n - Initialize the service by `service = WebService(target_wml_credentials=wml_credentials,target_space_id=experiment_metadata['space_id'])`\n - Get deployment_id: `service.list()`\n - Get webservice object: `service.get('deployment_id')`\n\nAfter that you can call `service.score(score_records_df)` method. The `score()` method accepts `pandas.DataFrame` objects. "
        },
        {
            "metadata": {},
            "cell_type": "markdown",
            "source": "<a id=\"cleanup\"></a>\n### Deleting deployment\nYou can delete the existing deployment by calling the `service.delete()` command.\nTo list the existing web services, use the `service.list()` method."
        },
        {
            "metadata": {},
            "cell_type": "markdown",
            "source": "<a id=\"run\"></a>\n\n## Running the AutoAI experiment with Python API"
        },
        {
            "metadata": {},
            "cell_type": "markdown",
            "source": "If you want to run the AutoAI experiment using the Python API, follow these steps. The experiment settings were generated basing on parameters set in the AutoAI UI.\n"
        },
        {
            "metadata": {
                "pycharm": {
                    "name": "#%%\n"
                }
            },
            "cell_type": "markdown",
            "source": "```\nfrom ibm_watson_machine_learning.experiment import AutoAI\n\nexperiment = AutoAI(wml_credentials, project_id=experiment_metadata['project_id'])\n```"
        },
        {
            "metadata": {},
            "cell_type": "markdown",
            "source": "```\nOPTIMIZER_NAME = 'custom_name'\n```"
        },
        {
            "metadata": {
                "pycharm": {
                    "name": "#%% raw\n"
                }
            },
            "cell_type": "markdown",
            "source": "```\nfrom ibm_watson_machine_learning.helpers import DataConnection\nfrom ibm_watson_machine_learning.helpers import ContainerLocation\n\ntraining_data_references = [\n    DataConnection(\n        data_asset_id='56952cea-e9b4-471b-b781-fd6772f653cf'\n    ),\n]\ntraining_result_reference = DataConnection(\n    location=ContainerLocation(\n        path='auto_ml/d38cd7f1-addf-4a64-a90f-50ee5f0e0c6b/wml_data/18768e39-dda4-46f0-ade6-122a1cd5552d/data/autoai-ts',\n        model_location='auto_ml/d38cd7f1-addf-4a64-a90f-50ee5f0e0c6b/wml_data/18768e39-dda4-46f0-ade6-122a1cd5552d/data/autoai-ts/model.zip',\n        training_status='auto_ml/d38cd7f1-addf-4a64-a90f-50ee5f0e0c6b/wml_data/18768e39-dda4-46f0-ade6-122a1cd5552d/training-status.json'\n    )\n)\n```"
        },
        {
            "metadata": {},
            "cell_type": "markdown",
            "source": "The new pipeline optimizer will be created and training will be triggered."
        },
        {
            "metadata": {
                "pycharm": {
                    "name": "#%%raw\n"
                }
            },
            "cell_type": "markdown",
            "source": "```\npipeline_optimizer = experiment.optimizer(\n    name=OPTIMIZER_NAME,\n    prediction_type=experiment_metadata['prediction_type'],\n    prediction_columns=experiment_metadata['prediction_columns'],\n    holdout_size=experiment_metadata['holdout_size'],\n    max_number_of_estimators=experiment_metadata['max_num_daub_ensembles'],\n    csv_separator=experiment_metadata['csv_separator'],\n    lookback_window=experiment_metadata['lookback_window'],\n    forecast_window=experiment_metadata['forecast_window'],\n    timestamp_column_name=experiment_metadata['timestamp_column_name'],\n    backtest_num=experiment_metadata['backtest_num'],\n    feature_columns=experiment_metadata['feature_columns'],\n    supporting_features_at_forecast=experiment_metadata['future_exogenous_available'],\n    pipeline_types=['RandomForestRegressor', 'ExogenousRandomForestRegressor', 'SVM', 'ExogenousSVM', 'LocalizedFlattenEnsembler', 'DifferenceFlattenEnsembler', 'FlattenEnsembler', 'ExogenousLocalizedFlattenEnsembler', 'ExogenousDifferenceFlattenEnsembler', 'ExogenousFlattenEnsembler', 'MT2RForecaster', 'ExogenousMT2RForecaster', 'HoltWinterAdditive', 'HoltWinterMultiplicative', 'Bats', 'ARIMA', 'ARIMAX', 'ARIMAX_RSAR', 'ARIMAX_PALR', 'ARIMAX_RAR', 'ARIMAX_DMLR'],\n    backtest_gap_length=experiment_metadata['gap_len'],\n    numerical_imputation_strategy=experiment_metadata['numerical_imputation_strategy'],\n)\n```"
        },
        {
            "metadata": {},
            "cell_type": "markdown",
            "source": "```\npipeline_optimizer.fit(\n    training_data_references=training_data_references,\n    training_results_reference=training_result_reference,\n)\n```"
        },
        {
            "metadata": {},
            "cell_type": "markdown",
            "source": "\n<a id=\"next_steps\"></a>\n# Next steps\nYou successfully completed this notebook!\nYou learned how to use ibm-watson-machine-learning to run and explore AutoAI experiments.\nCheck out the official [AutoAI site](https://www.ibm.com/cloud/watson-studio/autoai) for more samples, tutorials, documentation, how-tos, and blog posts."
        },
        {
            "metadata": {},
            "cell_type": "markdown",
            "source": "<a id=\"copyrights\"></a>\n### Copyrights\n\nLicensed Materials - Copyright \u00a9 2023 IBM. This notebook and its source code are released under the terms of the ILAN License.\nUse, duplication disclosure restricted by GSA ADP Schedule Contract with IBM Corp.\n\n**Note:** The auto-generated notebooks are subject to the International License Agreement for Non-Warranted Programs (or equivalent) and License Information document for Watson Studio Auto-generated Notebook (License Terms), such agreements located in the link below. Specifically, the Source Components and Sample Materials clause included in the License Information document for Watson Studio Auto-generated Notebook applies to the auto-generated notebooks.  \n\nBy downloading, copying, accessing, or otherwise using the materials, you agree to the <a href=\"http://www14.software.ibm.com/cgi-bin/weblap/lap.pl?li_formnum=L-AMCU-BYC7LF\">License Terms</a>  \n\n___"
        }
    ],
    "metadata": {
        "kernelspec": {
            "name": "python3",
            "display_name": "Python 3.10",
            "language": "python"
        },
        "language_info": {
            "name": "python",
            "version": "3.10.13",
            "mimetype": "text/x-python",
            "codemirror_mode": {
                "name": "ipython",
                "version": 3
            },
            "pygments_lexer": "ipython3",
            "nbconvert_exporter": "python",
            "file_extension": ".py"
        },
        "pycharm": {
            "stem_cell": {
                "cell_type": "raw",
                "metadata": {
                    "collapsed": false
                },
                "source": [
                    "\n"
                ]
            }
        }
    },
    "nbformat": 4,
    "nbformat_minor": 4
}